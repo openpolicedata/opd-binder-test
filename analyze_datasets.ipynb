{
 "cells": [
  {
   "cell_type": "markdown",
   "metadata": {},
   "source": [
    "The example shows how to do basic data analysis of the datasets. The example uses 2021 Fairfax County Virginia traffic stop data to analyze race/ethnicity values."
   ]
  },
  {
   "cell_type": "code",
   "execution_count": 1,
   "metadata": {},
   "outputs": [],
   "source": [
    "try:\n",
    "    import openpolicedata as opd\n",
    "except:\n",
    "    import sys\n",
    "    sys.path.append('../openpolicedata')\n",
    "    import openpolicedata as opd\n",
    "import pandas as pd\n",
    "import numpy as np"
   ]
  },
  {
   "cell_type": "code",
   "execution_count": 2,
   "metadata": {},
   "outputs": [
    {
     "data": {
      "text/html": [
       "<div>\n",
       "<style scoped>\n",
       "    .dataframe tbody tr th:only-of-type {\n",
       "        vertical-align: middle;\n",
       "    }\n",
       "\n",
       "    .dataframe tbody tr th {\n",
       "        vertical-align: top;\n",
       "    }\n",
       "\n",
       "    .dataframe thead th {\n",
       "        text-align: right;\n",
       "    }\n",
       "</style>\n",
       "<table border=\"1\" class=\"dataframe\">\n",
       "  <thead>\n",
       "    <tr style=\"text-align: right;\">\n",
       "      <th>race_eth</th>\n",
       "      <th>AMERICAN INDIAN</th>\n",
       "      <th>ASIAN/PACIFIC ISLANDER</th>\n",
       "      <th>BLACK OR AFRICAN AMERICAN</th>\n",
       "      <th>HISPANIC</th>\n",
       "      <th>UNKNOWN</th>\n",
       "      <th>WHITE</th>\n",
       "    </tr>\n",
       "    <tr>\n",
       "      <th>person_searched</th>\n",
       "      <th></th>\n",
       "      <th></th>\n",
       "      <th></th>\n",
       "      <th></th>\n",
       "      <th></th>\n",
       "      <th></th>\n",
       "    </tr>\n",
       "  </thead>\n",
       "  <tbody>\n",
       "    <tr>\n",
       "      <th>NO</th>\n",
       "      <td>88</td>\n",
       "      <td>1557</td>\n",
       "      <td>3574</td>\n",
       "      <td>4001</td>\n",
       "      <td>3291</td>\n",
       "      <td>8157</td>\n",
       "    </tr>\n",
       "    <tr>\n",
       "      <th>YES</th>\n",
       "      <td>1</td>\n",
       "      <td>57</td>\n",
       "      <td>338</td>\n",
       "      <td>513</td>\n",
       "      <td>12</td>\n",
       "      <td>346</td>\n",
       "    </tr>\n",
       "  </tbody>\n",
       "</table>\n",
       "</div>"
      ],
      "text/plain": [
       "race_eth         AMERICAN INDIAN  ASIAN/PACIFIC ISLANDER  \\\n",
       "person_searched                                            \n",
       "NO                            88                    1557   \n",
       "YES                            1                      57   \n",
       "\n",
       "race_eth         BLACK OR AFRICAN AMERICAN  HISPANIC  UNKNOWN  WHITE  \n",
       "person_searched                                                       \n",
       "NO                                    3574      4001     3291   8157  \n",
       "YES                                    338       513       12    346  "
      ]
     },
     "execution_count": 2,
     "metadata": {},
     "output_type": "execute_result"
    }
   ],
   "source": [
    "agency_comp = \"Fairfax County Police Department\"\n",
    "year = 2021\n",
    "src = opd.Source(source_name=\"Virginia\")\n",
    "t_ffx = src.load_from_url(year=year, table_type='STOPS', agency=agency_comp)\n",
    "\n",
    "# Make a copy of the table so that we can make changes without changing the original table.\n",
    "df_ffx = t_ffx.table.copy()\n",
    "\n",
    "# Race and ethnicity are saved in different columns in Virginia's data but analysis is typically done on a combined race/ethnicity column\n",
    "# containing Hispanic of all races, White Non-Hispanic, Black Non-Hispanic, Asian Non-Hispanic, etc. groups.\n",
    "# Create combined race/ethnicity category\n",
    "df_ffx[\"race_eth\"] = df_ffx[\"race\"]   # Default the value of the race/ethnicity to the race\n",
    "\n",
    "# For all rows where the ethnicity is HISPANIC, set \"race_eth\" column to HISPANIC\n",
    "df_ffx.loc[df_ffx[\"ethnicity\"] == \"HISPANIC\", \"race_eth\"] = \"HISPANIC\"\n",
    "# For all rows where the ethnicity is UNKNOWN, set \"race_eth\" column to UNKNOWN\n",
    "df_ffx.loc[df_ffx[\"ethnicity\"] == \"UNKNOWN\", \"race_eth\"] = \"UNKNOWN\"\n",
    "\n",
    "# Find the number of searches of persons by race and ethnicity\n",
    "# groupby groups the rows of the table based on [\"person_searched\",\"race_eth\"]\n",
    "# size() finds the number of rows in each group (i.e. the number of searches for each race/ethnicity group)\n",
    "# unstack just makes the resulting table more presentable\n",
    "searches = df_ffx.groupby([\"person_searched\",\"race_eth\"]).size().unstack(\"race_eth\")\n",
    "\n",
    "searches"
   ]
  },
  {
   "cell_type": "markdown",
   "metadata": {},
   "source": [
    "Let's find the percent of stops that end in the person being searched for each race/ethnicity group"
   ]
  },
  {
   "cell_type": "code",
   "execution_count": 3,
   "metadata": {},
   "outputs": [
    {
     "data": {
      "text/html": [
       "<div>\n",
       "<style scoped>\n",
       "    .dataframe tbody tr th:only-of-type {\n",
       "        vertical-align: middle;\n",
       "    }\n",
       "\n",
       "    .dataframe tbody tr th {\n",
       "        vertical-align: top;\n",
       "    }\n",
       "\n",
       "    .dataframe thead th {\n",
       "        text-align: right;\n",
       "    }\n",
       "</style>\n",
       "<table border=\"1\" class=\"dataframe\">\n",
       "  <thead>\n",
       "    <tr style=\"text-align: right;\">\n",
       "      <th></th>\n",
       "      <th># of Stops</th>\n",
       "      <th># of Searches</th>\n",
       "      <th>% of Stops With Search</th>\n",
       "    </tr>\n",
       "    <tr>\n",
       "      <th>race_eth</th>\n",
       "      <th></th>\n",
       "      <th></th>\n",
       "      <th></th>\n",
       "    </tr>\n",
       "  </thead>\n",
       "  <tbody>\n",
       "    <tr>\n",
       "      <th>AMERICAN INDIAN</th>\n",
       "      <td>89</td>\n",
       "      <td>1</td>\n",
       "      <td>1.1</td>\n",
       "    </tr>\n",
       "    <tr>\n",
       "      <th>ASIAN/PACIFIC ISLANDER</th>\n",
       "      <td>1614</td>\n",
       "      <td>57</td>\n",
       "      <td>3.5</td>\n",
       "    </tr>\n",
       "    <tr>\n",
       "      <th>BLACK OR AFRICAN AMERICAN</th>\n",
       "      <td>3912</td>\n",
       "      <td>338</td>\n",
       "      <td>8.6</td>\n",
       "    </tr>\n",
       "    <tr>\n",
       "      <th>HISPANIC</th>\n",
       "      <td>4514</td>\n",
       "      <td>513</td>\n",
       "      <td>11.4</td>\n",
       "    </tr>\n",
       "    <tr>\n",
       "      <th>UNKNOWN</th>\n",
       "      <td>3303</td>\n",
       "      <td>12</td>\n",
       "      <td>0.4</td>\n",
       "    </tr>\n",
       "    <tr>\n",
       "      <th>WHITE</th>\n",
       "      <td>8503</td>\n",
       "      <td>346</td>\n",
       "      <td>4.1</td>\n",
       "    </tr>\n",
       "  </tbody>\n",
       "</table>\n",
       "</div>"
      ],
      "text/plain": [
       "                           # of Stops  # of Searches  % of Stops With Search\n",
       "race_eth                                                                    \n",
       "AMERICAN INDIAN                    89              1                     1.1\n",
       "ASIAN/PACIFIC ISLANDER           1614             57                     3.5\n",
       "BLACK OR AFRICAN AMERICAN        3912            338                     8.6\n",
       "HISPANIC                         4514            513                    11.4\n",
       "UNKNOWN                          3303             12                     0.4\n",
       "WHITE                            8503            346                     4.1"
      ]
     },
     "execution_count": 3,
     "metadata": {},
     "output_type": "execute_result"
    }
   ],
   "source": [
    "# The total number of searches for each group is the sum of each column\n",
    "number_of_stops = searches.sum()\n",
    "# The number of searches for each group is the number of Yes's for each group\n",
    "number_of_searches = searches.loc[\"YES\"]\n",
    "\n",
    "# Calculate the search rate (% of people search over total people stopped)\n",
    "percent_stops_with_search = np.round(number_of_searches/number_of_stops*100,1)\n",
    "\n",
    "# Create a DataFrame out of the 3 metrics calculated above\n",
    "searches_df = pd.DataFrame([number_of_stops, number_of_searches, percent_stops_with_search], \n",
    "    index=[\"# of Stops\", \"# of Searches\", \"% of Stops With Search\"])\n",
    "searches_df = searches_df.transpose()\n",
    "searches_df[\"# of Stops\"] = searches_df[\"# of Stops\"].astype(int)\n",
    "searches_df[\"# of Searches\"] = searches_df[\"# of Searches\"].astype(int)\n",
    "# searches.dropna(inplace=True)\n",
    "searches_df"
   ]
  },
  {
   "cell_type": "code",
   "execution_count": 4,
   "metadata": {},
   "outputs": [
    {
     "data": {
      "text/plain": [
       "Text(0.5, 1.0, 'Percentage of Stops Where the Person is Searched')"
      ]
     },
     "execution_count": 4,
     "metadata": {},
     "output_type": "execute_result"
    },
    {
     "data": {
      "image/png": "[encoded data removed]",
      "text/plain": [
       "<Figure size 432x288 with 1 Axes>"
      ]
     },
     "metadata": {
      "needs_background": "light"
     },
     "output_type": "display_data"
    }
   ],
   "source": [
    "ax = searches_df.plot.barh(y=\"% of Stops With Search\", grid=True, legend=False)\n",
    "ax.set_ylabel(\"\")\n",
    "ax.set_xlabel(\"Percentage\")\n",
    "ax.set_title(\"Percentage of Stops Where the Person is Searched\")"
   ]
  }
 ],
 "metadata": {
  "kernelspec": {
   "display_name": "Python 3.9.12 ('opd')",
   "language": "python",
   "name": "python3"
  },
  "language_info": {
   "codemirror_mode": {
    "name": "ipython",
    "version": 3
   },
   "file_extension": ".py",
   "mimetype": "text/x-python",
   "name": "python",
   "nbconvert_exporter": "python",
   "pygments_lexer": "ipython3",
   "version": "3.9.12"
  },
  "orig_nbformat": 4,
  "vscode": {
   "interpreter": {
    "hash": "a73158d29711b2da05ac73de25b71e5d8cae591f14917bba77a9573b5c85a0ce"
   }
  }
 },
 "nbformat": 4,
 "nbformat_minor": 2
}
