{
 "cells": [
  {
   "cell_type": "code",
   "execution_count": 5,
   "id": "28ce1811",
   "metadata": {},
   "outputs": [],
   "source": [
    "import os\n",
    "import sys\n",
    "from pathlib import Path\n",
    "import pandas as pd\n",
    "import geopandas as gpd\n",
    "import matplotlib.pyplot as plt\n",
    "from shapely.geometry import Point, Polygon\n",
    "\n",
    "module_path = os.path.abspath(os.path.join('..'))\n",
    "if module_path not in sys.path:\n",
    "    sys.path.append(module_path)\n",
    "\n",
    "import openpolicedata as opd"
   ]
  },
  {
   "cell_type": "code",
   "execution_count": 6,
   "id": "5130a782",
   "metadata": {},
   "outputs": [
    {
     "data": {
      "text/html": [
       "<div>\n",
       "<style scoped>\n",
       "    .dataframe tbody tr th:only-of-type {\n",
       "        vertical-align: middle;\n",
       "    }\n",
       "\n",
       "    .dataframe tbody tr th {\n",
       "        vertical-align: top;\n",
       "    }\n",
       "\n",
       "    .dataframe thead th {\n",
       "        text-align: right;\n",
       "    }\n",
       "</style>\n",
       "<table border=\"1\" class=\"dataframe\">\n",
       "  <thead>\n",
       "    <tr style=\"text-align: right;\">\n",
       "      <th></th>\n",
       "      <th>State</th>\n",
       "      <th>SourceName</th>\n",
       "      <th>Agency</th>\n",
       "      <th>TableType</th>\n",
       "      <th>Year</th>\n",
       "      <th>Description</th>\n",
       "      <th>DataType</th>\n",
       "      <th>URL</th>\n",
       "      <th>date_field</th>\n",
       "      <th>dataset_id</th>\n",
       "      <th>agency_field</th>\n",
       "      <th>min_version</th>\n",
       "      <th>readme</th>\n",
       "    </tr>\n",
       "  </thead>\n",
       "  <tbody>\n",
       "    <tr>\n",
       "      <th>7</th>\n",
       "      <td>Colorado</td>\n",
       "      <td>Denver</td>\n",
       "      <td>Denver</td>\n",
       "      <td>STOPS</td>\n",
       "      <td>MULTI</td>\n",
       "      <td>Police Pedestrian Stops and Vehicle Stops</td>\n",
       "      <td>ArcGIS</td>\n",
       "      <td>https://services1.arcgis.com/zdB7qR0BtYrg0Xpl/...</td>\n",
       "      <td>TIME_PHONEPICKUP</td>\n",
       "      <td>&lt;NA&gt;</td>\n",
       "      <td>&lt;NA&gt;</td>\n",
       "      <td>&lt;NA&gt;</td>\n",
       "      <td>&lt;NA&gt;</td>\n",
       "    </tr>\n",
       "    <tr>\n",
       "      <th>8</th>\n",
       "      <td>Colorado</td>\n",
       "      <td>Denver</td>\n",
       "      <td>Denver</td>\n",
       "      <td>OFFICER-INVOLVED SHOOTINGS</td>\n",
       "      <td>MULTI</td>\n",
       "      <td>This dataset includes incidents in which one o...</td>\n",
       "      <td>CSV</td>\n",
       "      <td>https://www.denvergov.org/media/gis/DataCatalo...</td>\n",
       "      <td>INCIDENT_DATE</td>\n",
       "      <td>&lt;NA&gt;</td>\n",
       "      <td>&lt;NA&gt;</td>\n",
       "      <td>&lt;NA&gt;</td>\n",
       "      <td>https://view.officeapps.live.com/op/view.aspx?...</td>\n",
       "    </tr>\n",
       "  </tbody>\n",
       "</table>\n",
       "</div>"
      ],
      "text/plain": [
       "      State SourceName  Agency                   TableType   Year  \\\n",
       "7  Colorado     Denver  Denver                       STOPS  MULTI   \n",
       "8  Colorado     Denver  Denver  OFFICER-INVOLVED SHOOTINGS  MULTI   \n",
       "\n",
       "                                         Description DataType  \\\n",
       "7          Police Pedestrian Stops and Vehicle Stops   ArcGIS   \n",
       "8  This dataset includes incidents in which one o...      CSV   \n",
       "\n",
       "                                                 URL        date_field  \\\n",
       "7  https://services1.arcgis.com/zdB7qR0BtYrg0Xpl/...  TIME_PHONEPICKUP   \n",
       "8  https://www.denvergov.org/media/gis/DataCatalo...     INCIDENT_DATE   \n",
       "\n",
       "  dataset_id agency_field min_version  \\\n",
       "7       <NA>         <NA>        <NA>   \n",
       "8       <NA>         <NA>        <NA>   \n",
       "\n",
       "                                              readme  \n",
       "7                                               <NA>  \n",
       "8  https://view.officeapps.live.com/op/view.aspx?...  "
      ]
     },
     "execution_count": 6,
     "metadata": {},
     "output_type": "execute_result"
    }
   ],
   "source": [
    "# To access the data, create a source using a Source Name (usually a police department name). There is an optional state input to clarify ambiguities.\n",
    "# Create data source for Denver''s police department\n",
    "agency=\"Denver\"\n",
    "src = opd.Source(source_name=agency, state=\"Colorado\")\n",
    "src.datasets.head()"
   ]
  },
  {
   "cell_type": "code",
   "execution_count": 7,
   "id": "edbdc1d7",
   "metadata": {},
   "outputs": [
    {
     "name": "stdout",
     "output_type": "stream",
     "text": [
      "['STOPS', 'OFFICER-INVOLVED SHOOTINGS']\n"
     ]
    }
   ],
   "source": [
    "# Find out what types of data are available from this source\n",
    "\n",
    "types = src.get_tables_types()\n",
    "\n",
    "print(types)"
   ]
  },
  {
   "cell_type": "code",
   "execution_count": 8,
   "id": "24965914",
   "metadata": {},
   "outputs": [
    {
     "name": "stdout",
     "output_type": "stream",
     "text": [
      "[2010, 2011, 2012, 2013, 2014, 2015, 2016, 2017, 2018, 2019, 2020, 2021, 2022]\n"
     ]
    }
   ],
   "source": [
    "# Find out what years are available from the stops table\n",
    "active_data_type = types[0]\n",
    "years = src.get_years(table_type=active_data_type)\n",
    "print(years)"
   ]
  },
  {
   "cell_type": "code",
   "execution_count": 9,
   "id": "a093aaf9",
   "metadata": {},
   "outputs": [
    {
     "name": "stderr",
     "output_type": "stream",
     "text": [
      "                                                                                                                                                              \r"
     ]
    }
   ],
   "source": [
    "# Load data from the source for the Denver County Police Department in 2021\n",
    "active_year = 2011\n",
    "t = src.load_from_url(year=active_year, table_type=active_data_type)"
   ]
  },
  {
   "cell_type": "code",
   "execution_count": 10,
   "id": "1c996168",
   "metadata": {},
   "outputs": [
    {
     "data": {
      "text/html": [
       "<div>\n",
       "<style scoped>\n",
       "    .dataframe tbody tr th:only-of-type {\n",
       "        vertical-align: middle;\n",
       "    }\n",
       "\n",
       "    .dataframe tbody tr th {\n",
       "        vertical-align: top;\n",
       "    }\n",
       "\n",
       "    .dataframe thead th {\n",
       "        text-align: right;\n",
       "    }\n",
       "</style>\n",
       "<table border=\"1\" class=\"dataframe\">\n",
       "  <thead>\n",
       "    <tr style=\"text-align: right;\">\n",
       "      <th></th>\n",
       "      <th>OBJECTID</th>\n",
       "      <th>MASTER_INCIDENT_NUMBER</th>\n",
       "      <th>PRIORITY_DESCRIPTION</th>\n",
       "      <th>PROBLEM</th>\n",
       "      <th>ADDRESS</th>\n",
       "      <th>CALL_CLASS</th>\n",
       "      <th>TIME_PHONEPICKUP</th>\n",
       "      <th>CALL_DISPOSITION</th>\n",
       "      <th>GEO_X</th>\n",
       "      <th>GEO_Y</th>\n",
       "      <th>GEO_LON</th>\n",
       "      <th>GEO_LAT</th>\n",
       "      <th>DISTRICT_ID</th>\n",
       "      <th>PRECINCT_ID</th>\n",
       "      <th>NEIGHBORHOOD_NAME</th>\n",
       "      <th>GLOBALID</th>\n",
       "      <th>geometry</th>\n",
       "    </tr>\n",
       "  </thead>\n",
       "  <tbody>\n",
       "    <tr>\n",
       "      <th>0</th>\n",
       "      <td>3077585</td>\n",
       "      <td>DPD-11-0437880</td>\n",
       "      <td>P3 Public Need</td>\n",
       "      <td>Vehicle Stop</td>\n",
       "      <td>S Monaco Cir / S Monaco St</td>\n",
       "      <td>2</td>\n",
       "      <td>2011-10-01 01:23:03</td>\n",
       "      <td>In Service</td>\n",
       "      <td>3165235.33</td>\n",
       "      <td>1635925.11</td>\n",
       "      <td>-104.913789</td>\n",
       "      <td>39.577936</td>\n",
       "      <td>None</td>\n",
       "      <td>None</td>\n",
       "      <td>None</td>\n",
       "      <td>2d67b983-1afc-4c12-a62e-c792999586c4</td>\n",
       "      <td>POINT (3165235.332 1635925.108)</td>\n",
       "    </tr>\n",
       "  </tbody>\n",
       "</table>\n",
       "</div>"
      ],
      "text/plain": [
       "   OBJECTID MASTER_INCIDENT_NUMBER PRIORITY_DESCRIPTION       PROBLEM  \\\n",
       "0   3077585         DPD-11-0437880       P3 Public Need  Vehicle Stop   \n",
       "\n",
       "                      ADDRESS CALL_CLASS    TIME_PHONEPICKUP CALL_DISPOSITION  \\\n",
       "0  S Monaco Cir / S Monaco St          2 2011-10-01 01:23:03       In Service   \n",
       "\n",
       "        GEO_X       GEO_Y     GEO_LON    GEO_LAT DISTRICT_ID PRECINCT_ID  \\\n",
       "0  3165235.33  1635925.11 -104.913789  39.577936        None        None   \n",
       "\n",
       "  NEIGHBORHOOD_NAME                              GLOBALID  \\\n",
       "0              None  2d67b983-1afc-4c12-a62e-c792999586c4   \n",
       "\n",
       "                          geometry  \n",
       "0  POINT (3165235.332 1635925.108)  "
      ]
     },
     "execution_count": 10,
     "metadata": {},
     "output_type": "execute_result"
    }
   ],
   "source": [
    "# Show the columns\n",
    "t.table.head(1)"
   ]
  },
  {
   "cell_type": "code",
   "execution_count": 11,
   "id": "310cb64e",
   "metadata": {},
   "outputs": [
    {
     "data": {
      "text/html": [
       "<div>\n",
       "<style scoped>\n",
       "    .dataframe tbody tr th:only-of-type {\n",
       "        vertical-align: middle;\n",
       "    }\n",
       "\n",
       "    .dataframe tbody tr th {\n",
       "        vertical-align: top;\n",
       "    }\n",
       "\n",
       "    .dataframe thead th {\n",
       "        text-align: right;\n",
       "    }\n",
       "</style>\n",
       "<table border=\"1\" class=\"dataframe\">\n",
       "  <thead>\n",
       "    <tr style=\"text-align: right;\">\n",
       "      <th></th>\n",
       "      <th>OBJECTID</th>\n",
       "      <th>MASTER_INCIDENT_NUMBER</th>\n",
       "      <th>PRIORITY_DESCRIPTION</th>\n",
       "      <th>PROBLEM</th>\n",
       "      <th>ADDRESS</th>\n",
       "      <th>CALL_CLASS</th>\n",
       "      <th>TIME_PHONEPICKUP</th>\n",
       "      <th>CALL_DISPOSITION</th>\n",
       "      <th>GEO_X</th>\n",
       "      <th>GEO_Y</th>\n",
       "      <th>GEO_LON</th>\n",
       "      <th>GEO_LAT</th>\n",
       "      <th>DISTRICT_ID</th>\n",
       "      <th>PRECINCT_ID</th>\n",
       "      <th>NEIGHBORHOOD_NAME</th>\n",
       "      <th>GLOBALID</th>\n",
       "      <th>geometry</th>\n",
       "    </tr>\n",
       "  </thead>\n",
       "  <tbody>\n",
       "    <tr>\n",
       "      <th>0</th>\n",
       "      <td>3077585</td>\n",
       "      <td>DPD-11-0437880</td>\n",
       "      <td>P3 Public Need</td>\n",
       "      <td>Vehicle Stop</td>\n",
       "      <td>S Monaco Cir / S Monaco St</td>\n",
       "      <td>2</td>\n",
       "      <td>2011-10-01 01:23:03</td>\n",
       "      <td>In Service</td>\n",
       "      <td>3165235.33</td>\n",
       "      <td>1635925.11</td>\n",
       "      <td>-104.913789</td>\n",
       "      <td>39.577936</td>\n",
       "      <td>None</td>\n",
       "      <td>None</td>\n",
       "      <td>None</td>\n",
       "      <td>2d67b983-1afc-4c12-a62e-c792999586c4</td>\n",
       "      <td>POINT (-104.91380 39.57794)</td>\n",
       "    </tr>\n",
       "    <tr>\n",
       "      <th>1</th>\n",
       "      <td>3077586</td>\n",
       "      <td>DPD-11-0073081</td>\n",
       "      <td>P3 Public Need</td>\n",
       "      <td>Subject Stop</td>\n",
       "      <td>7621 S Broadway</td>\n",
       "      <td>2</td>\n",
       "      <td>2011-02-14 10:27:53</td>\n",
       "      <td>Quit</td>\n",
       "      <td>3144191.88</td>\n",
       "      <td>1635926.13</td>\n",
       "      <td>-104.988444</td>\n",
       "      <td>39.578288</td>\n",
       "      <td>None</td>\n",
       "      <td>None</td>\n",
       "      <td>None</td>\n",
       "      <td>472f2c6e-8bdc-43bb-ad31-bef85969360e</td>\n",
       "      <td>POINT (-104.98845 39.57830)</td>\n",
       "    </tr>\n",
       "    <tr>\n",
       "      <th>2</th>\n",
       "      <td>3077599</td>\n",
       "      <td>DPD-11-0038516</td>\n",
       "      <td>P3 Public Need</td>\n",
       "      <td>Subject Stop</td>\n",
       "      <td>7070 S Sheridan Blvd</td>\n",
       "      <td>2</td>\n",
       "      <td>2011-01-24 16:25:26</td>\n",
       "      <td>Arrest Made</td>\n",
       "      <td>3125738.11</td>\n",
       "      <td>1639893.56</td>\n",
       "      <td>-105.053843</td>\n",
       "      <td>39.589447</td>\n",
       "      <td>None</td>\n",
       "      <td>None</td>\n",
       "      <td>None</td>\n",
       "      <td>00510d40-507b-4a00-94d8-727336ff51b5</td>\n",
       "      <td>POINT (-105.05385 39.58945)</td>\n",
       "    </tr>\n",
       "  </tbody>\n",
       "</table>\n",
       "</div>"
      ],
      "text/plain": [
       "   OBJECTID MASTER_INCIDENT_NUMBER PRIORITY_DESCRIPTION       PROBLEM  \\\n",
       "0   3077585         DPD-11-0437880       P3 Public Need  Vehicle Stop   \n",
       "1   3077586         DPD-11-0073081       P3 Public Need  Subject Stop   \n",
       "2   3077599         DPD-11-0038516       P3 Public Need  Subject Stop   \n",
       "\n",
       "                      ADDRESS CALL_CLASS    TIME_PHONEPICKUP CALL_DISPOSITION  \\\n",
       "0  S Monaco Cir / S Monaco St          2 2011-10-01 01:23:03       In Service   \n",
       "1             7621 S Broadway          2 2011-02-14 10:27:53             Quit   \n",
       "2        7070 S Sheridan Blvd          2 2011-01-24 16:25:26      Arrest Made   \n",
       "\n",
       "        GEO_X       GEO_Y     GEO_LON    GEO_LAT DISTRICT_ID PRECINCT_ID  \\\n",
       "0  3165235.33  1635925.11 -104.913789  39.577936        None        None   \n",
       "1  3144191.88  1635926.13 -104.988444  39.578288        None        None   \n",
       "2  3125738.11  1639893.56 -105.053843  39.589447        None        None   \n",
       "\n",
       "  NEIGHBORHOOD_NAME                              GLOBALID  \\\n",
       "0              None  2d67b983-1afc-4c12-a62e-c792999586c4   \n",
       "1              None  472f2c6e-8bdc-43bb-ad31-bef85969360e   \n",
       "2              None  00510d40-507b-4a00-94d8-727336ff51b5   \n",
       "\n",
       "                      geometry  \n",
       "0  POINT (-104.91380 39.57794)  \n",
       "1  POINT (-104.98845 39.57830)  \n",
       "2  POINT (-105.05385 39.58945)  "
      ]
     },
     "execution_count": 11,
     "metadata": {},
     "output_type": "execute_result"
    }
   ],
   "source": [
    "# Convert geometry to lat long\n",
    "t.table['geometry']=t.table['geometry'].to_crs(crs='EPSG:4326')\n",
    "t.table.head(3)"
   ]
  },
  {
   "cell_type": "code",
   "execution_count": 12,
   "id": "3a688f0d",
   "metadata": {},
   "outputs": [
    {
     "name": "stdout",
     "output_type": "stream",
     "text": [
      "Downloading police_districts.zip from https://www.denvergov.org/media/gis/DataCatalog/police_districts/shape/.\n",
      ".Unzipping ../data/police_districts/police_districts.zip. The files are: \n",
      "['police_districts.dbf', 'police_districts.prj', 'police_districts.sbn', 'police_districts.sbx', 'police_districts.shp', 'police_districts.shp.xml', 'police_districts.shx']\n"
     ]
    }
   ],
   "source": [
    "# Download and load the police districts shape file\n",
    "import requests\n",
    "import zipfile\n",
    "\n",
    "shape_file_url = r'https://www.denvergov.org/media/gis/DataCatalog/police_districts/shape/'\n",
    "\n",
    "home_folder = Path('..')\n",
    "\n",
    "police_districts_base_filename = 'police_districts'\n",
    "police_districts_zip_filename = police_districts_base_filename + \".zip\"\n",
    "police_districts_dir = home_folder / 'data' / police_districts_base_filename\n",
    "police_districts_zip_full_filename =  police_districts_dir / police_districts_zip_filename\n",
    "\n",
    "if not police_districts_dir.is_dir():\n",
    "    os.makedirs(police_districts_dir)\n",
    "\n",
    "res = requests.get( shape_file_url + police_districts_zip_filename )\n",
    "res.raise_for_status()\n",
    "\n",
    "print(f\"Downloading {police_districts_zip_filename} from {shape_file_url}.\"  )\n",
    "with open(police_districts_zip_full_filename, 'wb') as f:\n",
    "    print(\".\",end='',flush=True)\n",
    "    f.write(res.content)\n",
    "\n",
    "#Extract the data from the file\n",
    "police_districts_zip = zipfile.ZipFile(police_districts_zip_full_filename)\n",
    "\n",
    "print(f\"Unzipping {police_districts_zip_full_filename}. The files are: \"  )\n",
    "print(police_districts_zip.namelist())\n",
    "\n",
    "police_districts_zip.extractall(police_districts_dir)\n",
    "police_districts_zip.close()\n"
   ]
  },
  {
   "cell_type": "code",
   "execution_count": 13,
   "id": "462be1ba",
   "metadata": {},
   "outputs": [
    {
     "ename": "NameError",
     "evalue": "name 'jurisdiction' is not defined",
     "output_type": "error",
     "traceback": [
      "\u001b[0;31m---------------------------------------------------------------------------\u001b[0m",
      "\u001b[0;31mNameError\u001b[0m                                 Traceback (most recent call last)",
      "\u001b[1;32m/home/user/cjc/opd-examples/ex_plotting_data.ipynb Cell 9\u001b[0m in \u001b[0;36m<cell line: 20>\u001b[0;34m()\u001b[0m\n\u001b[1;32m     <a href='vscode-notebook-cell://ssh-remote%2B7b22686f73744e616d65223a22434a43227d/home/user/cjc/opd-examples/ex_plotting_data.ipynb#X11sdnNjb2RlLXJlbW90ZQ%3D%3D?line=16'>17</a>\u001b[0m     district_map\u001b[39m.\u001b[39mplot(ax\u001b[39m=\u001b[39max, facecolor\u001b[39m=\u001b[39mcolor_name)\n\u001b[1;32m     <a href='vscode-notebook-cell://ssh-remote%2B7b22686f73744e616d65223a22434a43227d/home/user/cjc/opd-examples/ex_plotting_data.ipynb#X11sdnNjb2RlLXJlbW90ZQ%3D%3D?line=18'>19</a>\u001b[0m \u001b[39m# Add title\u001b[39;00m\n\u001b[0;32m---> <a href='vscode-notebook-cell://ssh-remote%2B7b22686f73744e616d65223a22434a43227d/home/user/cjc/opd-examples/ex_plotting_data.ipynb#X11sdnNjb2RlLXJlbW90ZQ%3D%3D?line=19'>20</a>\u001b[0m plt\u001b[39m.\u001b[39mtitle(\u001b[39mf\u001b[39m\u001b[39m\"\u001b[39m\u001b[39m \u001b[39m\u001b[39m{\u001b[39;00mjurisdiction\u001b[39m}\u001b[39;00m\u001b[39m Police District Locations\u001b[39m\u001b[39m\"\u001b[39m)\n\u001b[1;32m     <a href='vscode-notebook-cell://ssh-remote%2B7b22686f73744e616d65223a22434a43227d/home/user/cjc/opd-examples/ex_plotting_data.ipynb#X11sdnNjb2RlLXJlbW90ZQ%3D%3D?line=21'>22</a>\u001b[0m \u001b[39m# Remove empty white space around the plot\u001b[39;00m\n\u001b[1;32m     <a href='vscode-notebook-cell://ssh-remote%2B7b22686f73744e616d65223a22434a43227d/home/user/cjc/opd-examples/ex_plotting_data.ipynb#X11sdnNjb2RlLXJlbW90ZQ%3D%3D?line=22'>23</a>\u001b[0m plt\u001b[39m.\u001b[39mtight_layout()\n",
      "\u001b[0;31mNameError\u001b[0m: name 'jurisdiction' is not defined"
     ]
    },
    {
     "data": {
      "image/png": "[encoded data removed]",
      "text/plain": [
       "<Figure size 1000x1000 with 1 Axes>"
      ]
     },
     "metadata": {},
     "output_type": "display_data"
    }
   ],
   "source": [
    "# Load the shape file and plot it \n",
    "# On Windows, if there is an error when the shape file is read in below, fiona may not be installed properly. \n",
    "# See here: https://fiona.readthedocs.io/en/latest/README.html#installation\n",
    "import matplotlib.colors as mcolors\n",
    "\n",
    "# Load the shape file and plot it \n",
    "police_districts_shp_filename = police_districts_base_filename + \".shp\"\n",
    "police_districts_shp_full_filename =  police_districts_dir / police_districts_shp_filename\n",
    "map_df = gpd.read_file(police_districts_shp_full_filename)\n",
    "total_districts = set(map_df[\"DIST_NUM\"])\n",
    "\n",
    "plt.style.use('dark_background')\n",
    "fig, ax = plt.subplots(figsize=(10,10))\n",
    "\n",
    "for (color_name, color_value), current_district in zip(mcolors.TABLEAU_COLORS.items(), total_districts):\n",
    "    district_map = map_df[current_district==map_df[\"DIST_NUM\"]]\n",
    "    district_map.plot(ax=ax, facecolor=color_name)\n",
    "\n",
    "# Add title\n",
    "plt.title(f\" {jurisdiction} Police District Locations\")\n",
    "\n",
    "# Remove empty white space around the plot\n",
    "plt.tight_layout()\n"
   ]
  },
  {
   "cell_type": "code",
   "execution_count": null,
   "id": "44ad8bc3",
   "metadata": {},
   "outputs": [
    {
     "data": {
      "text/html": [
       "<div>\n",
       "<style scoped>\n",
       "    .dataframe tbody tr th:only-of-type {\n",
       "        vertical-align: middle;\n",
       "    }\n",
       "\n",
       "    .dataframe tbody tr th {\n",
       "        vertical-align: top;\n",
       "    }\n",
       "\n",
       "    .dataframe thead th {\n",
       "        text-align: right;\n",
       "    }\n",
       "</style>\n",
       "<table border=\"1\" class=\"dataframe\">\n",
       "  <thead>\n",
       "    <tr style=\"text-align: right;\">\n",
       "      <th></th>\n",
       "      <th>DIST_NUM</th>\n",
       "      <th>SHAPE_Leng</th>\n",
       "      <th>SHAPE_Area</th>\n",
       "      <th>geometry</th>\n",
       "      <th>Count</th>\n",
       "    </tr>\n",
       "  </thead>\n",
       "  <tbody>\n",
       "    <tr>\n",
       "      <th>0</th>\n",
       "      <td>6</td>\n",
       "      <td>0.159844</td>\n",
       "      <td>0.001126</td>\n",
       "      <td>POLYGON ((-104.97812 39.75116, -104.97812 39.7...</td>\n",
       "      <td>10382</td>\n",
       "    </tr>\n",
       "    <tr>\n",
       "      <th>1</th>\n",
       "      <td>1</td>\n",
       "      <td>0.379425</td>\n",
       "      <td>0.004253</td>\n",
       "      <td>POLYGON ((-104.97165 39.79832, -104.96874 39.7...</td>\n",
       "      <td>11029</td>\n",
       "    </tr>\n",
       "  </tbody>\n",
       "</table>\n",
       "</div>"
      ],
      "text/plain": [
       "  DIST_NUM  SHAPE_Leng  SHAPE_Area  \\\n",
       "0        6    0.159844    0.001126   \n",
       "1        1    0.379425    0.004253   \n",
       "\n",
       "                                            geometry  Count  \n",
       "0  POLYGON ((-104.97812 39.75116, -104.97812 39.7...  10382  \n",
       "1  POLYGON ((-104.97165 39.79832, -104.96874 39.7...  11029  "
      ]
     },
     "execution_count": 46,
     "metadata": {},
     "output_type": "execute_result"
    }
   ],
   "source": [
    "# Now associate the number of stops with a district\n",
    "# This takes a while to run\n",
    "\n",
    "INVALID_REGION_IDX = -1\n",
    "def find_region(event_loc, district_map):\n",
    "    active_region_idx=[ idx  for idx in range(len(district_map)) if district_map[idx].contains(event_loc).bool()]\n",
    "    if len(active_region_idx) == 0:\n",
    "        return INVALID_REGION_IDX\n",
    "    elif len(active_region_idx) == 1:\n",
    "        return active_region_idx[0]\n",
    "    else:\n",
    "        raise ValueError(\"Expected none or one region\")\n",
    "\n",
    "\n",
    "\n",
    "# Link a district with a stop\n",
    "district_map = [map_df[current_district==map_df[\"DIST_NUM\"]] for current_district in total_districts]\n",
    "t.table['REGION_IDX'] = t.table['geometry'].apply(lambda x: find_region(x,district_map) )\n",
    "\n",
    "# Show the column has been added\n",
    "district_region_totals=t.table.groupby(['REGION_IDX']).size()\n",
    "\n",
    "district_region_totals_list = [x for x in district_region_totals]\n",
    "\n",
    "# Skip the invalid index\n",
    "map_df['Count']=district_region_totals_list[1:]\n",
    "map_df.head(2)"
   ]
  },
  {
   "cell_type": "code",
   "execution_count": null,
   "id": "8c907f6a",
   "metadata": {},
   "outputs": [
    {
     "data": {
      "image/png": "[encoded data removed]",
      "text/plain": [
       "<Figure size 720x720 with 2 Axes>"
      ]
     },
     "metadata": {},
     "output_type": "display_data"
    }
   ],
   "source": [
    "# Plot the results\n",
    "fig, ax = plt.subplots(figsize=(10,10))\n",
    "\n",
    "# Other cmap choices include: Wistia, magma_r, YlGn\n",
    "map_df.plot(ax=ax, column='Count', edgecolor='w', cmap='Wistia',alpha=1, linewidth=1, legend=True)\n",
    "\n",
    "plt.title(f\"Number of {active_data_type} in {jurisdiction} Police District Locations for {active_year}\")\n",
    "\n",
    "plt.tight_layout()\n",
    "ax.set_axis_off()"
   ]
  }
 ],
 "metadata": {
  "kernelspec": {
   "display_name": "Python 3.8.10 ('.venv': venv)",
   "language": "python",
   "name": "python3"
  },
  "language_info": {
   "codemirror_mode": {
    "name": "ipython",
    "version": 3
   },
   "file_extension": ".py",
   "mimetype": "text/x-python",
   "name": "python",
   "nbconvert_exporter": "python",
   "pygments_lexer": "ipython3",
   "version": "3.8.10"
  },
  "vscode": {
   "interpreter": {
    "hash": "b8984a611885c151e4025bf9760202dcd28a711ce1fd5e4b9ae1af2088072517"
   }
  }
 },
 "nbformat": 4,
 "nbformat_minor": 5
}
