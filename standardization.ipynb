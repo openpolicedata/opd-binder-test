{
 "cells": [
  {
   "cell_type": "markdown",
   "metadata": {},
   "source": [
    "# Advanced Data Standardization\n",
    "One of the challenges in analyzing police data is that different agencies will use different column names for the same data and will use different codes and terms for the data in the columns. Particularly, if you are looking at multiple datasets, it is valuable for the data to be standardized so that you know in advance what some key columns will be called and what values will be in those columns. To provide the user with more consistent column names and data, OpenPoliceData provides powerful tools to automatically standardize column names and data in order. \n",
    "\n",
    "## Standardizable Columns\n",
    "Columns that OpenPoliceData can standardize are:"
   ]
  },
  {
   "cell_type": "code",
   "execution_count": 1,
   "metadata": {},
   "outputs": [
    {
     "name": "stdout",
     "output_type": "stream",
     "text": [
      "Left column is attribute of opd.defs.columns (i.e. opd.defs.columns.AGE_OFFICER)\n",
      "Middle column is the corresponding standardized column name (i.e. \"OFFICER_AGE\")\n"
     ]
    },
    {
     "data": {
      "text/html": [
       "<table border=\"1\" class=\"dataframe\">\n",
       "  <thead>\n",
       "    <tr style=\"text-align: right;\">\n",
       "      <th></th>\n",
       "      <th>Attribute</th>\n",
       "      <th>Column Name</th>\n",
       "      <th>Definition</th>\n",
       "    </tr>\n",
       "  </thead>\n",
       "  <tbody>\n",
       "    <tr>\n",
       "      <th>1</th>\n",
       "      <td>AGE_OFFICER</td>\n",
       "      <td>OFFICER_AGE</td>\n",
       "      <td>Age of officer</td>\n",
       "    </tr>\n",
       "    <tr>\n",
       "      <th>2</th>\n",
       "      <td>AGE_OFFICER_SUBJECT</td>\n",
       "      <td>OFFICER/SUBJECT_AGE</td>\n",
       "      <td>Age of either an officer or subject (depending on column \"SUBJECT_OR_OFFICER\")</td>\n",
       "    </tr>\n",
       "    <tr>\n",
       "      <th>6</th>\n",
       "      <td>AGE_SUBJECT</td>\n",
       "      <td>SUBJECT_AGE</td>\n",
       "      <td>Age of subject</td>\n",
       "    </tr>\n",
       "    <tr>\n",
       "      <th>3</th>\n",
       "      <td>AGE_RANGE_OFFICER</td>\n",
       "      <td>OFFICER_AGE_RANGE</td>\n",
       "      <td>Age Range of officer</td>\n",
       "    </tr>\n",
       "    <tr>\n",
       "      <th>4</th>\n",
       "      <td>AGE_RANGE_OFFICER_SUBJECT</td>\n",
       "      <td>OFFICER/SUBJECT_AGE_RANGE</td>\n",
       "      <td>Age Range of either an officer or subject (depending on column \"SUBJECT_OR_OFFICER\")</td>\n",
       "    </tr>\n",
       "    <tr>\n",
       "      <th>5</th>\n",
       "      <td>AGE_RANGE_SUBJECT</td>\n",
       "      <td>SUBJECT_AGE_RANGE</td>\n",
       "      <td>Age Range of subject</td>\n",
       "    </tr>\n",
       "    <tr>\n",
       "      <th>0</th>\n",
       "      <td>AGENCY</td>\n",
       "      <td>AGENCY</td>\n",
       "      <td>Agency</td>\n",
       "    </tr>\n",
       "    <tr>\n",
       "      <th>7</th>\n",
       "      <td>DATE</td>\n",
       "      <td>DATE</td>\n",
       "      <td>Date. Some agencies only provide the period. In these cases, the date will be the 1st date of the period (i.e. Jan. 1 for years and the 1st of the month for months).</td>\n",
       "    </tr>\n",
       "    <tr>\n",
       "      <th>8</th>\n",
       "      <td>DATETIME</td>\n",
       "      <td>DATETIME</td>\n",
       "      <td>Combination of date and time when both columns are found (not generated when detected date column contains datetime values)</td>\n",
       "    </tr>\n",
       "    <tr>\n",
       "      <th>10</th>\n",
       "      <td>ETHNICITY_OFFICER_SUBJECT</td>\n",
       "      <td>OFFICER/SUBJECT_ETHNICITY</td>\n",
       "      <td>Ethnicity of either an officer or subject (depending on column \"SUBJECT_OR_OFFICER\")</td>\n",
       "    </tr>\n",
       "    <tr>\n",
       "      <th>11</th>\n",
       "      <td>ETHNICITY_SUBJECT</td>\n",
       "      <td>SUBJECT_ETHNICITY</td>\n",
       "      <td>Ethnicity of subject</td>\n",
       "    </tr>\n",
       "    <tr>\n",
       "      <th>9</th>\n",
       "      <td>ETHNICITY_OFFICER</td>\n",
       "      <td>OFFICER_ETHNICITY</td>\n",
       "      <td>Ethnicity of officer</td>\n",
       "    </tr>\n",
       "    <tr>\n",
       "      <th>12</th>\n",
       "      <td>GENDER_OFFICER</td>\n",
       "      <td>OFFICER_GENDER</td>\n",
       "      <td>Gender of officer</td>\n",
       "    </tr>\n",
       "    <tr>\n",
       "      <th>13</th>\n",
       "      <td>GENDER_OFFICER_SUBJECT</td>\n",
       "      <td>OFFICER/SUBJECT_GENDER</td>\n",
       "      <td>Gender of either an officer or subject (depending on column \"SUBJECT_OR_OFFICER\")</td>\n",
       "    </tr>\n",
       "    <tr>\n",
       "      <th>14</th>\n",
       "      <td>GENDER_SUBJECT</td>\n",
       "      <td>SUBJECT_GENDER</td>\n",
       "      <td>Gender of subject</td>\n",
       "    </tr>\n",
       "    <tr>\n",
       "      <th>15</th>\n",
       "      <td>RACE_OFFICER</td>\n",
       "      <td>OFFICER_RACE</td>\n",
       "      <td>Race of officer</td>\n",
       "    </tr>\n",
       "    <tr>\n",
       "      <th>16</th>\n",
       "      <td>RACE_OFFICER_SUBJECT</td>\n",
       "      <td>OFFICER/SUBJECT_RACE</td>\n",
       "      <td>Race of either an officer or subject (depending on column \"SUBJECT_OR_OFFICER\")</td>\n",
       "    </tr>\n",
       "    <tr>\n",
       "      <th>20</th>\n",
       "      <td>RACE_SUBJECT</td>\n",
       "      <td>SUBJECT_RACE</td>\n",
       "      <td>Race of subject</td>\n",
       "    </tr>\n",
       "    <tr>\n",
       "      <th>17</th>\n",
       "      <td>RACE_ONLY_OFFICER</td>\n",
       "      <td>OFFICER_RACE_ONLY</td>\n",
       "      <td>Race Only of officer. This is the standardized race column when both race and ethnicity are detected. If present, OFFICER_RACE is a combination of race and ethnicity.</td>\n",
       "    </tr>\n",
       "    <tr>\n",
       "      <th>18</th>\n",
       "      <td>RACE_ONLY_OFFICER_SUBJECT</td>\n",
       "      <td>OFFICER/SUBJECT_RACE_ONLY</td>\n",
       "      <td>Race Only of either an officer or subject (depending on column \"SUBJECT_OR_OFFICER\"). This is the standardized race column when both race and ethnicity are detected. If present, OFFICER/SUBJECT_RACE is a combination of race and ethnicity.</td>\n",
       "    </tr>\n",
       "    <tr>\n",
       "      <th>19</th>\n",
       "      <td>RACE_ONLY_SUBJECT</td>\n",
       "      <td>SUBJECT_RACE_ONLY</td>\n",
       "      <td>Race Only of subject. This is the standardized race column when both race and ethnicity are detected. If present, SUBJECT_RACE is a combination of race and ethnicity.</td>\n",
       "    </tr>\n",
       "    <tr>\n",
       "      <th>21</th>\n",
       "      <td>SUBJECT_OR_OFFICER</td>\n",
       "      <td>SUBJECT_OR_OFFICER</td>\n",
       "      <td>Whether row describes an officer or an subject/civilian</td>\n",
       "    </tr>\n",
       "    <tr>\n",
       "      <th>22</th>\n",
       "      <td>TIME</td>\n",
       "      <td>TIME</td>\n",
       "      <td>Time</td>\n",
       "    </tr>\n",
       "  </tbody>\n",
       "</table>"
      ],
      "text/plain": [
       "                    Attribute                Column Name  \\\n",
       "1                 AGE_OFFICER                OFFICER_AGE   \n",
       "2         AGE_OFFICER_SUBJECT        OFFICER/SUBJECT_AGE   \n",
       "6                 AGE_SUBJECT                SUBJECT_AGE   \n",
       "3           AGE_RANGE_OFFICER          OFFICER_AGE_RANGE   \n",
       "4   AGE_RANGE_OFFICER_SUBJECT  OFFICER/SUBJECT_AGE_RANGE   \n",
       "5           AGE_RANGE_SUBJECT          SUBJECT_AGE_RANGE   \n",
       "0                      AGENCY                     AGENCY   \n",
       "7                        DATE                       DATE   \n",
       "8                    DATETIME                   DATETIME   \n",
       "10  ETHNICITY_OFFICER_SUBJECT  OFFICER/SUBJECT_ETHNICITY   \n",
       "11          ETHNICITY_SUBJECT          SUBJECT_ETHNICITY   \n",
       "9           ETHNICITY_OFFICER          OFFICER_ETHNICITY   \n",
       "12             GENDER_OFFICER             OFFICER_GENDER   \n",
       "13     GENDER_OFFICER_SUBJECT     OFFICER/SUBJECT_GENDER   \n",
       "14             GENDER_SUBJECT             SUBJECT_GENDER   \n",
       "15               RACE_OFFICER               OFFICER_RACE   \n",
       "16       RACE_OFFICER_SUBJECT       OFFICER/SUBJECT_RACE   \n",
       "20               RACE_SUBJECT               SUBJECT_RACE   \n",
       "17          RACE_ONLY_OFFICER          OFFICER_RACE_ONLY   \n",
       "18  RACE_ONLY_OFFICER_SUBJECT  OFFICER/SUBJECT_RACE_ONLY   \n",
       "19          RACE_ONLY_SUBJECT          SUBJECT_RACE_ONLY   \n",
       "21         SUBJECT_OR_OFFICER         SUBJECT_OR_OFFICER   \n",
       "22                       TIME                       TIME   \n",
       "\n",
       "                                           Definition  \n",
       "1                                      Age of officer  \n",
       "2   Age of either an officer or subject (depending...  \n",
       "6                                      Age of subject  \n",
       "3                                Age Range of officer  \n",
       "4   Age Range of either an officer or subject (dep...  \n",
       "5                                Age Range of subject  \n",
       "0                                              Agency  \n",
       "7   Date. Some agencies only provide the period. I...  \n",
       "8   Combination of date and time when both columns...  \n",
       "10  Ethnicity of either an officer or subject (dep...  \n",
       "11                               Ethnicity of subject  \n",
       "9                                Ethnicity of officer  \n",
       "12                                  Gender of officer  \n",
       "13  Gender of either an officer or subject (depend...  \n",
       "14                                  Gender of subject  \n",
       "15                                    Race of officer  \n",
       "16  Race of either an officer or subject (dependin...  \n",
       "20                                    Race of subject  \n",
       "17  Race Only of officer. This is the standardized...  \n",
       "18  Race Only of either an officer or subject (dep...  \n",
       "19  Race Only of subject. This is the standardized...  \n",
       "21  Whether row describes an officer or an subject...  \n",
       "22                                               Time  "
      ]
     },
     "execution_count": 1,
     "metadata": {},
     "output_type": "execute_result"
    }
   ],
   "source": [
    "import sys\n",
    "sys.path.insert(0, \"../../../../../openpolicedata/\")\n",
    "import openpolicedata as opd\n",
    "print(\"Left column is attribute of opd.defs.columns (i.e. opd.defs.columns.AGE_OFFICER)\")\n",
    "print('Middle column is the corresponding standardized column name (i.e. \"OFFICER_AGE\")')\n",
    "opd.defs.columns"
   ]
  },
  {
   "cell_type": "markdown",
   "metadata": {},
   "source": [
    "## Basic Standardization\n",
    "Basic standardization only requires calling `standardize` on a `Table` object."
   ]
  },
  {
   "cell_type": "code",
   "execution_count": 2,
   "metadata": {},
   "outputs": [
    {
     "name": "stdout",
     "output_type": "stream",
     "text": [
      "The columns after standardization are Index(['DATE', 'SUBJECT_RACE', 'SUBJECT_AGE', 'SUBJECT_GENDER', 'AGENCY',\n",
      "       'jurisdiction', 'reason_for_stop', 'person_type', 'english_speaking',\n",
      "       'action_taken', 'specific_violation', 'virginia_crime_code',\n",
      "       'person_searched', 'vehicle_searched', 'physical_force_by_officer',\n",
      "       'physical_force_by_subject', 'residency', 'SUBJECT_ETHNICITY',\n",
      "       'SUBJECT_RACE_ONLY', 'RAW_incident_date', 'RAW_agency_name', 'RAW_race',\n",
      "       'RAW_ethnicity', 'RAW_age', 'RAW_gender'],\n",
      "      dtype='object')\n"
     ]
    }
   ],
   "source": [
    "src = opd.Source(\"Virginia\")\n",
    "tbl = src.load_from_url(2022, table_type=\"STOPS\", agency=\"Arlington County Police Department\")\n",
    "tbl.standardize()\n",
    "\n",
    "print(f'The columns after standardization are {tbl.table.columns}')"
   ]
  },
  {
   "cell_type": "markdown",
   "metadata": {},
   "source": [
    "The columns in all caps are the columns are standardized versions of the original columns that have been prepended with \"RAW_\" (*The original columns were lowercase in this dataset. OPD does not alter the original columns or make them lowercase*). By standardizing, the user does not need to know the exact name of a particular column (they vary greatly) and can check if they exist by:"
   ]
  },
  {
   "cell_type": "code",
   "execution_count": 6,
   "metadata": {},
   "outputs": [
    {
     "name": "stdout",
     "output_type": "stream",
     "text": [
      "The values in the standardized subject race column are ['WHITE' 'BLACK OR AFRICAN AMERICAN' 'AMERICAN INDIAN OR ALASKA NATIVE'\n",
      " 'ASIAN OR NATIVE HAWAIIAN OR OTHER PACIFIC ISLANDER' 'UNKNOWN']\n",
      "\n",
      "The values in the standardized subject race column are ['HISPANIC/LATINO' 'BLACK' 'INDIGENOUS' 'WHITE' 'ASIAN / PACIFIC ISLANDER'\n",
      " 'UNKNOWN']\n"
     ]
    }
   ],
   "source": [
    "if opd.defs.columns.RACE_SUBJECT in tbl.table: # Alternatively: if \"SUBJECT_RACE\" in tbl.table\n",
    "    race_col = tbl.table[opd.defs.columns.RACE_SUBJECT]  # Alternatively: tbl.table[\"SUBJECT_RACE\"]\n",
    "    print(f\"The values in the standardized subject race column are {tbl.table['RAW_race'].unique()}\\n\")\n",
    "    print(f\"The values in the standardized subject race column are {race_col.unique()}\")\n",
    "else:\n",
    "    print(\"There is no subject race column\")"
   ]
  },
  {
   "cell_type": "markdown",
   "metadata": {},
   "source": [
    "The values in each standardized column (such as the race column) have been converted from the raw values to standardized ones. Thus, in the standardized race column, Black individuals will always be labeled as BLACK despite different datasets using many different encodings (including B, African American, Black or African American, and various shortened versions and typos). Data types will also be consistent"
   ]
  },
  {
   "cell_type": "code",
   "execution_count": 8,
   "metadata": {},
   "outputs": [
    {
     "data": {
      "text/plain": [
       "dtype('<M8[ns]')"
      ]
     },
     "execution_count": 8,
     "metadata": {},
     "output_type": "execute_result"
    }
   ],
   "source": [
    "tbl.table[\"DATE\"].dtype"
   ]
  }
 ],
 "metadata": {
  "kernelspec": {
   "display_name": "docs-test",
   "language": "python",
   "name": "python3"
  },
  "language_info": {
   "codemirror_mode": {
    "name": "ipython",
    "version": 3
   },
   "file_extension": ".py",
   "mimetype": "text/x-python",
   "name": "python",
   "nbconvert_exporter": "python",
   "pygments_lexer": "ipython3",
   "version": "3.11.3"
  },
  "orig_nbformat": 4
 },
 "nbformat": 4,
 "nbformat_minor": 2
}
